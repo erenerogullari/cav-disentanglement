{
 "cells": [
  {
   "cell_type": "code",
   "execution_count": 1,
   "metadata": {},
   "outputs": [],
   "source": [
    "import torch\n",
    "import numpy as np\n",
    "import pickle\n",
    "import os\n",
    "import sys"
   ]
  },
  {
   "cell_type": "code",
   "execution_count": 2,
   "metadata": {},
   "outputs": [
    {
     "data": {
      "text/plain": [
       "torch.Size([16214, 512])"
      ]
     },
     "execution_count": 2,
     "metadata": {},
     "output_type": "execute_result"
    }
   ],
   "source": [
    "activations = torch.load('data/activations_train.pth', weights_only=True)\n",
    "activations.shape"
   ]
  },
  {
   "cell_type": "code",
   "execution_count": 6,
   "metadata": {},
   "outputs": [
    {
     "data": {
      "text/plain": [
       "['5_o_Clock_Shadow',\n",
       " 'Arched_Eyebrows',\n",
       " 'Attractive',\n",
       " 'Bags_Under_Eyes',\n",
       " 'Bald',\n",
       " 'Bangs',\n",
       " 'Big_Lips',\n",
       " 'Big_Nose',\n",
       " 'Black_Hair',\n",
       " 'Blond_Hair',\n",
       " 'Blurry',\n",
       " 'Brown_Hair',\n",
       " 'Bushy_Eyebrows',\n",
       " 'Chubby',\n",
       " 'Double_Chin',\n",
       " 'Eyeglasses',\n",
       " 'Goatee',\n",
       " 'Gray_Hair',\n",
       " 'Heavy_Makeup',\n",
       " 'High_Cheekbones',\n",
       " 'Male',\n",
       " 'Mouth_Slightly_Open',\n",
       " 'Mustache',\n",
       " 'Narrow_Eyes',\n",
       " 'No_Beard',\n",
       " 'Oval_Face',\n",
       " 'Pale_Skin',\n",
       " 'Pointy_Nose',\n",
       " 'Receding_Hairline',\n",
       " 'Rosy_Cheeks',\n",
       " 'Sideburns',\n",
       " 'Smiling',\n",
       " 'Straight_Hair',\n",
       " 'Wavy_Hair',\n",
       " 'Wearing_Earrings',\n",
       " 'Wearing_Hat',\n",
       " 'Wearing_Lipstick',\n",
       " 'Wearing_Necklace',\n",
       " 'Wearing_Necktie',\n",
       " 'Young']"
      ]
     },
     "execution_count": 6,
     "metadata": {},
     "output_type": "execute_result"
    }
   ],
   "source": [
    "with open('data/concepts.pkl', 'rb') as f:\n",
    "    concepts = pickle.load(f)\n",
    "\n",
    "concepts"
   ]
  },
  {
   "cell_type": "code",
   "execution_count": 7,
   "metadata": {},
   "outputs": [],
   "source": [
    "concepts = [\n",
    " \"5_o_Clock_Shadow\",\n",
    " \"Arched_Eyebrows\",\n",
    " \"Attractive\",\n",
    " \"Bags_Under_Eyes\",\n",
    " \"Bald\",\n",
    " \"Bangs\",\n",
    " \"Big_Lips\",\n",
    " \"Big_Nose\",\n",
    " \"Black_Hair\",\n",
    " \"Blond_Hair\",\n",
    " \"Blurry\",\n",
    " \"Brown_Hair\",\n",
    " \"Bushy_Eyebrows\",\n",
    " \"Chubby\",\n",
    " \"Double_Chin\",\n",
    " \"Eyeglasses\",\n",
    " \"Goatee\",\n",
    " \"Gray_Hair\",\n",
    " \"Heavy_Makeup\",\n",
    " \"High_Cheekbones\",\n",
    " \"Male\",\n",
    " \"Mouth_Slightly_Open\",\n",
    " \"Mustache\",\n",
    " \"Narrow_Eyes\",\n",
    " \"No_Beard\",\n",
    " \"Oval_Face\",\n",
    " \"Pale_Skin\",\n",
    " \"Pointy_Nose\",\n",
    " \"Receding_Hairline\",\n",
    " \"Rosy_Cheeks\",\n",
    " \"Sideburns\",\n",
    " \"Smiling\",\n",
    " \"Straight_Hair\",\n",
    " \"Wavy_Hair\",\n",
    " \"Wearing_Earrings\",\n",
    " \"Wearing_Hat\",\n",
    " \"Wearing_Lipstick\",\n",
    " \"Wearing_Necklace\",\n",
    " \"Wearing_Necktie\",\n",
    " \"Young\",\n",
    " \"timestamp\",\n",
    " \"box\"\n",
    "]\n",
    "\n",
    "with open('data/concept_names.pkl', 'wb') as f:\n",
    "    pickle.dump(concepts, f)"
   ]
  },
  {
   "cell_type": "code",
   "execution_count": null,
   "metadata": {},
   "outputs": [],
   "source": []
  }
 ],
 "metadata": {
  "kernelspec": {
   "display_name": "xai",
   "language": "python",
   "name": "python3"
  },
  "language_info": {
   "codemirror_mode": {
    "name": "ipython",
    "version": 3
   },
   "file_extension": ".py",
   "mimetype": "text/x-python",
   "name": "python",
   "nbconvert_exporter": "python",
   "pygments_lexer": "ipython3",
   "version": "3.11.10"
  }
 },
 "nbformat": 4,
 "nbformat_minor": 2
}
