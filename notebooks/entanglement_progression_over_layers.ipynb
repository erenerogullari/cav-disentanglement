{
 "cells": [
  {
   "cell_type": "markdown",
   "id": "e3f31797",
   "metadata": {},
   "source": [
    "# <p align=\"center\">Pattern-CAVs Entanglement Progression Over Layers</p>"
   ]
  },
  {
   "cell_type": "markdown",
   "id": "92869c06",
   "metadata": {},
   "source": [
    "In this notebook, we visualize the entanglement progression of Pattern-CAVs along the convolutional layers of VGG16 model trained on the CelebA dataset."
   ]
  },
  {
   "cell_type": "code",
   "execution_count": 1,
   "id": "0fd5e47c",
   "metadata": {},
   "outputs": [],
   "source": [
    "import torch\n",
    "import numpy as np\n",
    "from tqdm.notebook import tqdm\n",
    "import matplotlib.pyplot as plt\n",
    "import seaborn as sns\n",
    "import sys\n",
    "import os\n",
    "\n",
    "sys.path.append(os.path.abspath(os.path.join(os.getcwd(), '..')))"
   ]
  },
  {
   "cell_type": "markdown",
   "id": "2a032fd9",
   "metadata": {},
   "source": [
    "We start by loading the CelebA dataset and neccesary variables."
   ]
  },
  {
   "cell_type": "code",
   "execution_count": 2,
   "id": "c9d03832",
   "metadata": {},
   "outputs": [
    {
     "name": "stdout",
     "output_type": "stream",
     "text": [
      "Number of images in dataset: 20260\n",
      "Labels shape: torch.Size([20260, 40])\n",
      "Number of concepts present: 40\n",
      "  0. 5_o_Clock_Shadow    \n",
      "  1. Arched_Eyebrows     \n",
      "  2. Attractive          \n",
      "  3. Bags_Under_Eyes     \n",
      "  4. Bald                \n",
      "  5. Bangs               \n",
      "  6. Big_Lips            \n",
      "  7. Big_Nose            \n",
      "  8. Black_Hair          \n",
      "  9. Blond_Hair          \n",
      " 10. Blurry              \n",
      " 11. Brown_Hair          \n",
      " 12. Bushy_Eyebrows      \n",
      " 13. Chubby              \n",
      " 14. Double_Chin         \n",
      " 15. Eyeglasses          \n",
      " 16. Goatee              \n",
      " 17. Gray_Hair           \n",
      " 18. Heavy_Makeup        \n",
      " 19. High_Cheekbones     \n",
      " 20. Male                \n",
      " 21. Mouth_Slightly_Open \n",
      " 22. Mustache            \n",
      " 23. Narrow_Eyes         \n",
      " 24. No_Beard            \n",
      " 25. Oval_Face           \n",
      " 26. Pale_Skin           \n",
      " 27. Pointy_Nose         \n",
      " 28. Receding_Hairline   \n",
      " 29. Rosy_Cheeks         \n",
      " 30. Sideburns           \n",
      " 31. Smiling             \n",
      " 32. Straight_Hair       \n",
      " 33. Wavy_Hair           \n",
      " 34. Wearing_Earrings    \n",
      " 35. Wearing_Hat         \n",
      " 36. Wearing_Lipstick    \n",
      " 37. Wearing_Necklace    \n",
      " 38. Wearing_Necktie     \n",
      " 39. Young               \n"
     ]
    }
   ],
   "source": [
    "from datasets import get_dataset\n",
    "\n",
    "IMG_SIZE = 224\n",
    "DATASET_NAME = \"celeba\"\n",
    "DATASET_DIRS = [\"/Users/erogullari/datasets/\"]      # change to the directory containing CelebA\n",
    "SAVE_DIR = \"../media/auc_orthogonality_over_layers\"\n",
    "\n",
    "dataset = get_dataset(DATASET_NAME)(data_paths=DATASET_DIRS,\n",
    "                                    normalize_data=True,\n",
    "                                    image_size=IMG_SIZE)\n",
    "concepts = list(dataset.sample_ids_by_concept.keys())       # list of concept names\n",
    "labels = torch.tensor(dataset.attributes.to_numpy(), dtype=torch.float32)   # binary labels tensor\n",
    "\n",
    "print(f\"Number of images in dataset: {len(dataset)}\")\n",
    "print(f\"Labels shape: {labels.shape}\")\n",
    "print(f\"Number of concepts present: {len(concepts)}\")\n",
    "\n",
    "for i, c in enumerate(concepts):\n",
    "    print(f\"{i:3d}. {c:20s}\")"
   ]
  },
  {
   "cell_type": "markdown",
   "id": "17279ca2",
   "metadata": {},
   "source": [
    "Then, let's download the weights for the VGG16 model. Alternatively, the weights can be found [here](https://drive.google.com/drive/folders/1Vv_Dq-1hDcYl-A-TuXNH8jRDKe9-BR-k?usp=sharing) under checkpoints."
   ]
  },
  {
   "cell_type": "code",
   "execution_count": 3,
   "id": "a358cb90",
   "metadata": {},
   "outputs": [],
   "source": [
    "# !wget --no-check-certificate 'https://docs.google.com/uc?export=download&id=1L7O838TRldaWQkGKIFGvwxVe_agnyFAn' -O checkpoint_vgg16_celeba.pth\n",
    "# !mv checkpoint_vgg16_celeba.pth ../checkpoints/"
   ]
  },
  {
   "cell_type": "code",
   "execution_count": 4,
   "id": "ae947867",
   "metadata": {},
   "outputs": [
    {
     "data": {
      "text/plain": [
       "VGG(\n",
       "  (features): Sequential(\n",
       "    (0): Conv2d(3, 64, kernel_size=(3, 3), stride=(1, 1), padding=(1, 1))\n",
       "    (1): ReLU(inplace=True)\n",
       "    (2): Conv2d(64, 64, kernel_size=(3, 3), stride=(1, 1), padding=(1, 1))\n",
       "    (3): ReLU(inplace=True)\n",
       "    (4): MaxPool2d(kernel_size=2, stride=2, padding=0, dilation=1, ceil_mode=False)\n",
       "    (5): Conv2d(64, 128, kernel_size=(3, 3), stride=(1, 1), padding=(1, 1))\n",
       "    (6): ReLU(inplace=True)\n",
       "    (7): Conv2d(128, 128, kernel_size=(3, 3), stride=(1, 1), padding=(1, 1))\n",
       "    (8): ReLU(inplace=True)\n",
       "    (9): MaxPool2d(kernel_size=2, stride=2, padding=0, dilation=1, ceil_mode=False)\n",
       "    (10): Conv2d(128, 256, kernel_size=(3, 3), stride=(1, 1), padding=(1, 1))\n",
       "    (11): ReLU(inplace=True)\n",
       "    (12): Conv2d(256, 256, kernel_size=(3, 3), stride=(1, 1), padding=(1, 1))\n",
       "    (13): ReLU(inplace=True)\n",
       "    (14): Conv2d(256, 256, kernel_size=(3, 3), stride=(1, 1), padding=(1, 1))\n",
       "    (15): ReLU(inplace=True)\n",
       "    (16): MaxPool2d(kernel_size=2, stride=2, padding=0, dilation=1, ceil_mode=False)\n",
       "    (17): Conv2d(256, 512, kernel_size=(3, 3), stride=(1, 1), padding=(1, 1))\n",
       "    (18): ReLU(inplace=True)\n",
       "    (19): Conv2d(512, 512, kernel_size=(3, 3), stride=(1, 1), padding=(1, 1))\n",
       "    (20): ReLU(inplace=True)\n",
       "    (21): Conv2d(512, 512, kernel_size=(3, 3), stride=(1, 1), padding=(1, 1))\n",
       "    (22): ReLU(inplace=True)\n",
       "    (23): MaxPool2d(kernel_size=2, stride=2, padding=0, dilation=1, ceil_mode=False)\n",
       "    (24): Conv2d(512, 512, kernel_size=(3, 3), stride=(1, 1), padding=(1, 1))\n",
       "    (25): ReLU(inplace=True)\n",
       "    (26): Conv2d(512, 512, kernel_size=(3, 3), stride=(1, 1), padding=(1, 1))\n",
       "    (27): ReLU(inplace=True)\n",
       "    (28): Conv2d(512, 512, kernel_size=(3, 3), stride=(1, 1), padding=(1, 1))\n",
       "    (29): ReLU(inplace=True)\n",
       "    (30): MaxPool2d(kernel_size=2, stride=2, padding=0, dilation=1, ceil_mode=False)\n",
       "  )\n",
       "  (avgpool): AdaptiveAvgPool2d(output_size=(7, 7))\n",
       "  (classifier): Sequential(\n",
       "    (0): Linear(in_features=25088, out_features=4096, bias=True)\n",
       "    (1): ReLU(inplace=True)\n",
       "    (2): Dropout(p=0.5, inplace=False)\n",
       "    (3): Linear(in_features=4096, out_features=4096, bias=True)\n",
       "    (4): ReLU(inplace=True)\n",
       "    (5): Dropout(p=0.5, inplace=False)\n",
       "    (6): Linear(in_features=4096, out_features=2, bias=True)\n",
       "  )\n",
       "  (input_identity): Identity()\n",
       ")"
      ]
     },
     "execution_count": 4,
     "metadata": {},
     "output_type": "execute_result"
    }
   ],
   "source": [
    "from models import get_fn_model_loader\n",
    "\n",
    "MODEL_NAME = \"vgg16\"\n",
    "N_CLASSES = 2\n",
    "CHECKPT_PATH = \"../checkpoints/checkpoint_vgg16_celeba.pth\"\n",
    "\n",
    "model = get_fn_model_loader(model_name=MODEL_NAME)(n_class=N_CLASSES, ckpt_path=CHECKPT_PATH)\n",
    "model.eval()"
   ]
  },
  {
   "cell_type": "markdown",
   "id": "ac17505f",
   "metadata": {},
   "source": [
    "Now, we can compute the activations at each convolution layer of the VGG16 model."
   ]
  },
  {
   "cell_type": "code",
   "execution_count": 5,
   "id": "1504c51e",
   "metadata": {},
   "outputs": [],
   "source": [
    "# Helper fn to compute activations on a given layer of the network.\n",
    "def get_features(batch, layer_names, attribution, cav_mode=\"max\", device=\"cpu\"):\n",
    "    batch.requires_grad = True\n",
    "    dummy_cond = [{\"y\": 0} for _ in range(len(batch))]\n",
    "    attr = attribution(batch.to(device), dummy_cond, record_layer=layer_names)\n",
    "    if cav_mode == \"full\":\n",
    "        activations = attr.activations\n",
    "    if cav_mode == \"max\":\n",
    "        activations = {}\n",
    "        for layer_name in layer_names:\n",
    "            activations[layer_name] = attr.activations[layer_name].flatten(start_dim=2).max(2)[0]\n",
    "    return activations"
   ]
  },
  {
   "cell_type": "code",
   "execution_count": 6,
   "id": "02ba75b2",
   "metadata": {},
   "outputs": [],
   "source": [
    "from crp.attribution import CondAttribution\n",
    "from torch.utils.data import DataLoader\n",
    "\n",
    "LAYER_IDS = [0, 2, 5, 7, 10, 12, 14, 17, 19, 21, 24, 26, 28]  # VGG16 Convolutional layers\n",
    "LAYERS = [f\"features.{layer_id}\" for layer_id in LAYER_IDS]\n",
    "\n",
    "# File path to save/load latent variables\n",
    "folder_path = \"../variables/latents_celeba_vgg16\"\n",
    "device = 'mps'      # Change to your device\n",
    "\n",
    "if False:    # Set this to False after running once.\n",
    "    attribution = CondAttribution(model.to(device))\n",
    "    # Check if the latent variables have been precomputed and saved\n",
    "    if not os.path.exists(folder_path):\n",
    "        os.makedirs(folder_path, exist_ok=True)\n",
    "\n",
    "    # Compute latent embeddings\n",
    "    BATCH_SIZE = 16\n",
    "    CAV_MODE = \"max\"\n",
    "    dataloader = DataLoader(dataset, batch_size=BATCH_SIZE)\n",
    "    x_latent_all = {}\n",
    "    for x, y in tqdm(dataloader):\n",
    "        activations = get_features(x, LAYERS, attribution, CAV_MODE, device=device)\n",
    "        for layer_name, x_latent in activations.items():\n",
    "            if layer_name not in x_latent_all:\n",
    "                x_latent_all[layer_name] = []\n",
    "            x_latent = x_latent.detach().cpu()\n",
    "            x_latent_all[layer_name].append(x_latent)\n",
    "\n",
    "    # Concatenate and save all latent variables for each layer\n",
    "    for layer_name in x_latent_all:\n",
    "        x_latent_all[layer_name] = torch.cat(x_latent_all[layer_name], dim=0)\n",
    "        latent_file_path = os.path.join(folder_path, f\"{layer_name}.pth\")\n",
    "        if not os.path.exists(latent_file_path):\n",
    "            os.makedirs(os.path.dirname(latent_file_path), exist_ok=True)\n",
    "        torch.save(x_latent_all[layer_name], latent_file_path)\n",
    "        print(f\"Computed and saved latent variables for {layer_name} to {latent_file_path} (shape: {x_latent_all[layer_name].shape})\")"
   ]
  },
  {
   "cell_type": "markdown",
   "id": "8d0458ab",
   "metadata": {},
   "source": [
    "And compute the CAVs at each convolution layer."
   ]
  },
  {
   "cell_type": "code",
   "execution_count": 7,
   "id": "cde17f51",
   "metadata": {},
   "outputs": [
    {
     "name": "stdout",
     "output_type": "stream",
     "text": [
      "Computed CAVs for features.0 with shape: torch.Size([40, 64])\n",
      "Computed CAVs for features.2 with shape: torch.Size([40, 64])\n",
      "Computed CAVs for features.5 with shape: torch.Size([40, 128])\n",
      "Computed CAVs for features.7 with shape: torch.Size([40, 128])\n",
      "Computed CAVs for features.10 with shape: torch.Size([40, 256])\n",
      "Computed CAVs for features.12 with shape: torch.Size([40, 256])\n",
      "Computed CAVs for features.14 with shape: torch.Size([40, 256])\n",
      "Computed CAVs for features.17 with shape: torch.Size([40, 512])\n",
      "Computed CAVs for features.19 with shape: torch.Size([40, 512])\n",
      "Computed CAVs for features.21 with shape: torch.Size([40, 512])\n",
      "Computed CAVs for features.24 with shape: torch.Size([40, 512])\n",
      "Computed CAVs for features.26 with shape: torch.Size([40, 512])\n",
      "Computed CAVs for features.28 with shape: torch.Size([40, 512])\n"
     ]
    }
   ],
   "source": [
    "from utils.cav import compute_cavs\n",
    "\n",
    "folder_path = \"../variables/latents_celeba_vgg16\"\n",
    "cavs_original = {}\n",
    "\n",
    "size = len(dataset)\n",
    "shuffled_ids = torch.randperm(size)\n",
    "train_ids = shuffled_ids[:int(0.8 * size)]\n",
    "test_ids = shuffled_ids[int(0.8 * size):]\n",
    "\n",
    "# Baseline CAVs\n",
    "for layer in LAYERS:\n",
    "    latent_file_path = os.path.join(folder_path, f\"{layer}.pth\")\n",
    "    if os.path.exists(latent_file_path):\n",
    "        latents_train = torch.load(latent_file_path)[train_ids]\n",
    "        labels_train = labels[train_ids]\n",
    "    else:\n",
    "        raise FileNotFoundError(f\"Latent file for {layer} not found at {latent_file_path}\")\n",
    "    \n",
    "    cavs_original[layer], _ = compute_cavs(latents_train, labels_train, \"pattern_cav\")\n",
    "    print(f\"Computed CAVs for {layer} with shape: {cavs_original[layer].shape}\")"
   ]
  },
  {
   "cell_type": "markdown",
   "id": "7d1a7f50",
   "metadata": {},
   "source": [
    "Finally we can compute the AUC and Orthogonality scores."
   ]
  },
  {
   "cell_type": "code",
   "execution_count": 8,
   "id": "3e91f980",
   "metadata": {},
   "outputs": [
    {
     "name": "stdout",
     "output_type": "stream",
     "text": [
      "Computed uniqueness and AUC for features.0.\n",
      "Computed uniqueness and AUC for features.2.\n",
      "Computed uniqueness and AUC for features.5.\n",
      "Computed uniqueness and AUC for features.7.\n",
      "Computed uniqueness and AUC for features.10.\n",
      "Computed uniqueness and AUC for features.12.\n",
      "Computed uniqueness and AUC for features.14.\n",
      "Computed uniqueness and AUC for features.17.\n",
      "Computed uniqueness and AUC for features.19.\n",
      "Computed uniqueness and AUC for features.21.\n",
      "Computed uniqueness and AUC for features.24.\n",
      "Computed uniqueness and AUC for features.26.\n",
      "Computed uniqueness and AUC for features.28.\n"
     ]
    },
    {
     "data": {
      "text/plain": [
       "((40,), (40,))"
      ]
     },
     "execution_count": 8,
     "metadata": {},
     "output_type": "execute_result"
    }
   ],
   "source": [
    "from utils.metrics import get_uniqueness, compute_auc_performance\n",
    "\n",
    "folder_path = \"../variables/latents_celeba_vgg16\"\n",
    "\n",
    "uniqueness_vals = {}\n",
    "auc_vals = {}\n",
    "for layer in LAYERS:\n",
    "    latent_file_path = os.path.join(folder_path, f\"{layer}.pth\")\n",
    "    if os.path.exists(latent_file_path):\n",
    "        latents_test = torch.load(latent_file_path, weights_only=True)[test_ids]\n",
    "        labels_test = labels[test_ids]\n",
    "    else:\n",
    "        raise FileNotFoundError(f\"Latent file for {layer} not found at {latent_file_path}\")\n",
    "    \n",
    "    # Compute uniqueness and AUC for each layer\n",
    "    uniqueness_vals[layer] = get_uniqueness(cavs_original[layer])\n",
    "    auc_vals[layer] = compute_auc_performance(cavs_original[layer], latents_test, labels_test)\n",
    "    print(f\"Computed uniqueness and AUC for {layer}.\")\n",
    "\n",
    "uniqueness_vals[LAYERS[0]].shape, auc_vals[LAYERS[0]].shape"
   ]
  },
  {
   "cell_type": "markdown",
   "id": "e89b857d",
   "metadata": {},
   "source": [
    "## Global AUC vs Orthogonality Over Layers"
   ]
  },
  {
   "cell_type": "markdown",
   "id": "4aa737cc",
   "metadata": {},
   "source": [
    "First, we have an overview of global averages of AUC and Orthogonality of all CAVs at each layer."
   ]
  },
  {
   "cell_type": "code",
   "execution_count": 9,
   "id": "7f0fb7bd",
   "metadata": {},
   "outputs": [
    {
     "data": {
      "image/png": "[encoded data removed]",
      "text/plain": [
       "<Figure size 800x450 with 1 Axes>"
      ]
     },
     "metadata": {},
     "output_type": "display_data"
    }
   ],
   "source": [
    "import pandas as pd\n",
    "import seaborn as sns\n",
    "import matplotlib.pyplot as plt\n",
    "\n",
    "records = []\n",
    "for depth in LAYERS:\n",
    "    # AUC values for this layer\n",
    "    for v in np.asarray(auc_vals[depth]).ravel():\n",
    "        records.append({\"depth\": depth, \"metric\": \"AUC\", \"value\": float(v)})\n",
    "    # Orthogonality values for this layer\n",
    "    for v in np.asarray(uniqueness_vals[depth]).ravel():\n",
    "        records.append({\"depth\": depth, \"metric\": \"Orthogonality\", \"value\": float(v)})\n",
    "\n",
    "df = pd.DataFrame(records)\n",
    "df[\"depth\"] = pd.Categorical(df[\"depth\"], categories=LAYERS, ordered=True)\n",
    "\n",
    "plt.figure(figsize=(8, 4.5))\n",
    "sns.set_theme(style=\"whitegrid\")\n",
    "sns.lineplot(\n",
    "    data=df,\n",
    "    x=\"depth\",\n",
    "    y=\"value\",\n",
    "    hue=\"metric\",\n",
    "    estimator=\"mean\",\n",
    "    errorbar=(\"ci\", 95),   # seaborn >= 0.12; for older versions use ci=95\n",
    "    marker=\"o\"\n",
    ")\n",
    "plt.xlabel(\"Depth\")\n",
    "plt.ylabel(\"Score\")\n",
    "plt.ylim(0, 1)  # unify scale\n",
    "plt.legend(title=\"\", loc=\"upper left\")\n",
    "plt.xticks(ticks=range(len(LAYERS)),\n",
    "           labels=[s.split('.', 1)[1] for s in LAYERS])\n",
    "plt.tight_layout()\n",
    "plt.savefig(f\"{SAVE_DIR}/global.pdf\", format=\"pdf\")\n",
    "plt.show()"
   ]
  },
  {
   "cell_type": "markdown",
   "id": "73fee331",
   "metadata": {},
   "source": [
    "## Individual AUC vs Orthogonality Over Layers"
   ]
  },
  {
   "cell_type": "markdown",
   "id": "c6ba7066",
   "metadata": {},
   "source": [
    "And we can look at indicviual concepts - saved in 'media/auc_orthogonality_over_layers'"
   ]
  },
  {
   "cell_type": "code",
   "execution_count": 10,
   "id": "96e04301",
   "metadata": {},
   "outputs": [],
   "source": [
    "for batch_id in range(10):   # Change range for different batches of concepts\n",
    "    indices_to_plot = list(range(batch_id*4, batch_id*4 + 4)) \n",
    "\n",
    "    # Plot 4 concepts AUC and Orthogonality over all layers on a 2x2 grid\n",
    "    fig, axes = plt.subplots(2, 2, figsize=(10, 8))\n",
    "\n",
    "    auc_plots = [None] * len(indices_to_plot)\n",
    "    orthogonality_plots = [None] * len(indices_to_plot)\n",
    "\n",
    "    for i, idx in enumerate(indices_to_plot):\n",
    "        auc_plots[i] = [auc_vals[layer][idx] for layer in LAYERS]\n",
    "        orthogonality_plots[i] = [uniqueness_vals[layer][idx] for layer in LAYERS]\n",
    "\n",
    "    for idx, ax in enumerate(axes.flatten()):\n",
    "        concept = concepts[indices_to_plot[idx]]\n",
    "\n",
    "        # Plot both lines on the same axis\n",
    "        ax.plot(LAYERS, auc_plots[idx], color='b', marker='o', label='AUC')\n",
    "        ax.plot(LAYERS, orthogonality_plots[idx], color='orange', marker='o',label='Orthogonality')\n",
    "\n",
    "        ax.set_title(f'Concept: {concept}')\n",
    "        ax.set_xlabel('Layer')\n",
    "        ax.set_ylabel('Value')\n",
    "        ax.set_ylim(0, 1)  # unify scale\n",
    "        ax.set_xticks(range(len(LAYERS)))\n",
    "        ax.set_xticklabels([s.split('.', 1)[1] for s in LAYERS])\n",
    "\n",
    "        # Single legend\n",
    "        ax.legend(loc='upper left')\n",
    "\n",
    "    plt.tight_layout()\n",
    "    plt.savefig(f\"{SAVE_DIR}/concepts_batch_{batch_id}.pdf\", format=\"pdf\")\n",
    "    plt.close()"
   ]
  },
  {
   "cell_type": "markdown",
   "id": "99e4270a",
   "metadata": {},
   "source": [
    "## Grouped AUC vs Orthogonality Over Layers"
   ]
  },
  {
   "cell_type": "markdown",
   "id": "36fe5186",
   "metadata": {},
   "source": [
    "We can also group concepts by their complexity and visualize the group aggregations."
   ]
  },
  {
   "cell_type": "code",
   "execution_count": 11,
   "id": "239465bf",
   "metadata": {},
   "outputs": [],
   "source": [
    "group_indices = {\n",
    "    \"simple\": {\n",
    "        \"hair_color\" : [8, 9, 11, 17],               # Black_Hair, Blond_Hair, Brown_Hair, Gray_Hair\n",
    "        # \"skin_makeup\" : [26, 29, 36],                # Pale_Skin, Rosy_Cheeks, Wearing_Lipstick\n",
    "        # \"hair_style\" : [4, 5, 32, 33],               # Bald, Bangs, Straight_Hair, Wavy_Hair\n",
    "        # \"accessories\" : [15, 34, 35, 37, 38],        # Eyeglasses, Earrings, Hat, Necklace, Necktie\n",
    "        # \"artifact\" : [10],                         # Blurry\n",
    "    },\n",
    "    \"mid\": {\n",
    "        # \"facial_hair\" : [0, 16, 22, 30, 24],         # 5_o_Clock_Shadow, Goatee, Mustache, Sideburns, No_Beard\n",
    "        # \"eyebrows_eyes\" : [1, 12, 23, 3],            # Arched_Eyebrows, Bushy_Eyebrows, Narrow_Eyes, Bags_Under_Eyes\n",
    "        # \"mouth_nose\" : [6, 7, 21, 27],               # Big_Lips, Big_Nose, Mouth_Slightly_Open, Pointy_Nose\n",
    "        \"face_shape\" : [13, 14, 25, 28, 19],         # Chubby, Double_Chin, Oval_Face, Receding_Hairline, High_Cheekbones\n",
    "    },\n",
    "    \"complex\": {\n",
    "        \"demographics\" : [20, 39],                   # Male, Young\n",
    "        # \"style_aesthetics\" : [18, 2, 31],            # Heavy_Makeup, Attractive, Smiling\n",
    "    }\n",
    "}"
   ]
  },
  {
   "cell_type": "code",
   "execution_count": 15,
   "id": "46082621",
   "metadata": {},
   "outputs": [
    {
     "data": {
      "image/png": "[encoded data removed]",
      "text/plain": [
       "<Figure size 800x450 with 1 Axes>"
      ]
     },
     "metadata": {},
     "output_type": "display_data"
    }
   ],
   "source": [
    "from matplotlib.lines import Line2D\n",
    "\n",
    "category_to_subgroups = {\n",
    "    \"simple\": list(group_indices[\"simple\"].keys()),\n",
    "    \"mid\":    list(group_indices[\"mid\"].keys()),\n",
    "    \"complex\":list(group_indices[\"complex\"].keys()),\n",
    "}\n",
    "\n",
    "# --- 2) Build palettes: one hue per category, different shades for its subgroups ---\n",
    "category_palettes = {\n",
    "    \"simple\":  sns.color_palette(\"Blues\",  n_colors=len(category_to_subgroups[\"simple\"])),\n",
    "    \"mid\":     sns.color_palette(\"Oranges\", n_colors=len(category_to_subgroups[\"mid\"])),\n",
    "    \"complex\": sns.color_palette(\"Greens\",    n_colors=len(category_to_subgroups[\"complex\"])),\n",
    "}\n",
    "\n",
    "# Subgroup → color lookup\n",
    "subgroup_color = {}\n",
    "for cat in [\"simple\", \"mid\", \"complex\"]:\n",
    "    for i, subgroup in enumerate(category_to_subgroups[cat]):\n",
    "        subgroup_color[(cat, subgroup)] = category_palettes[cat][i]\n",
    "\n",
    "# --- 3) Compute metrics per *subgroup* (not aggregated over the whole category) ---\n",
    "subgroup_metrics = {}  # keys: (category, subgroup) -> dict with \"AUC\" and \"Orthogonality\" trajectories\n",
    "for cat, subdict in group_indices.items():\n",
    "    for subgroup, idxs in subdict.items():\n",
    "        idxs = np.asarray(idxs, dtype=int)\n",
    "        auc_traj  = [float(np.asarray(auc_vals[layer])[idxs].mean())          for layer in LAYERS]\n",
    "        orth_traj = [float(np.asarray(uniqueness_vals[layer])[idxs].mean())   for layer in LAYERS]\n",
    "        subgroup_metrics[(cat, subgroup)] = {\"AUC\": auc_traj, \"Orthogonality\": orth_traj}\n",
    "\n",
    "# --- 4) Plot: same axes, two linestyles, color by category hue / subgroup shade ---\n",
    "sns.set_theme(style=\"whitegrid\")\n",
    "linestyles = {\"AUC\": \"-\", \"Orthogonality\": \"--\"}\n",
    "markers     = {\"AUC\": \"o\", \"Orthogonality\": \"s\"}\n",
    "\n",
    "fig, ax = plt.subplots(figsize=(8, 4.5))\n",
    "\n",
    "# Plot in category order, then subgroup order (so legend looks tidy)\n",
    "for cat in [\"simple\", \"mid\", \"complex\"]:\n",
    "    for subgroup in category_to_subgroups[cat]:\n",
    "        color = subgroup_color[(cat, subgroup)]\n",
    "        m = subgroup_metrics[(cat, subgroup)]\n",
    "\n",
    "        ax.plot(\n",
    "            LAYERS, m[\"AUC\"],\n",
    "            color=color, linestyle=linestyles[\"AUC\"], marker=markers[\"AUC\"],\n",
    "            label=f\"{subgroup} (AUC)\"\n",
    "        )\n",
    "        ax.plot(\n",
    "            LAYERS, m[\"Orthogonality\"],\n",
    "            color=color, linestyle=linestyles[\"Orthogonality\"], marker=markers[\"Orthogonality\"],\n",
    "            label=f\"{subgroup} (Orth)\"\n",
    "        )\n",
    "\n",
    "# --- 5) Axes formatting ---\n",
    "ax.set_xlabel(\"Depth\")\n",
    "ax.set_ylabel(\"Score\")\n",
    "ax.set_ylim(0, 1)\n",
    "ax.set_xticks(range(len(LAYERS)))\n",
    "ax.set_xticklabels([s.split('.', 1)[1] for s in LAYERS])\n",
    "\n",
    "# --- 6) Build a grouped legend: category headers + subgroup entries + linestyle key ---\n",
    "# Header handles (invisible lines used as headings)\n",
    "header_handles = [\n",
    "    Line2D([0], [0], color=\"none\", label=\"Simple\",  linewidth=0),\n",
    "    Line2D([0], [0], color=\"none\", label=\"Mid\",     linewidth=0),\n",
    "    Line2D([0], [0], color=\"none\", label=\"Complex\", linewidth=0),\n",
    "]\n",
    "\n",
    "# Subgroup handles (colored) — just one handle per subgroup (AUC style)\n",
    "subgroup_handles = []\n",
    "for cat in [\"simple\", \"mid\", \"complex\"]:\n",
    "    # add a header marker, then the subgroups\n",
    "    subgroup_handles.append(Line2D([], [], color=\"none\", label=cat.capitalize()))\n",
    "    for subgroup in category_to_subgroups[cat]:\n",
    "        color = subgroup_color[(cat, subgroup)]\n",
    "        subgroup_handles.append(\n",
    "            Line2D([0], [0], color=color, linestyle=linestyles[\"AUC\"], marker=markers[\"AUC\"], label=subgroup)\n",
    "        )\n",
    "\n",
    "# Linestyle key (monochrome) to explain AUC vs Orthogonality\n",
    "style_handles = [\n",
    "    Line2D([0], [0], color=\"black\", linestyle=linestyles[\"AUC\"], marker=markers[\"AUC\"], label=\"AUC\"),\n",
    "    Line2D([0], [0], color=\"black\", linestyle=linestyles[\"Orthogonality\"], marker=markers[\"Orthogonality\"], label=\"Orthogonality\"),\n",
    "]\n",
    "\n",
    "# Compose final legend handles (category headers + subgroups + style key)\n",
    "# (We already added a text header before each category's subgroups above.)\n",
    "legend_handles = subgroup_handles + [Line2D([], [], color=\"none\", label=\"\"), *style_handles]\n",
    "\n",
    "ax.legend(\n",
    "    handles=legend_handles,\n",
    "    #title=\"Groups (color) and Metrics (linestyle)\",\n",
    "    loc=\"upper left\", \n",
    "    # bbox_to_anchor=(1.02, 0.5),\n",
    "    frameon=True\n",
    ")\n",
    "\n",
    "# fig.tight_layout(rect=(0, 0, 0.80, 1))\n",
    "\n",
    "SAVE_DIR = \"../media/auc_orthogonality_over_layers\"\n",
    "\n",
    "os.makedirs(f\"{SAVE_DIR}\", exist_ok=True)\n",
    "plt.savefig(f\"{SAVE_DIR}/concept_groups.pdf\", format=\"pdf\")\n",
    "plt.show()"
   ]
  },
  {
   "cell_type": "code",
   "execution_count": null,
   "id": "b5a94ee5",
   "metadata": {},
   "outputs": [],
   "source": []
  }
 ],
 "metadata": {
  "kernelspec": {
   "display_name": "xai",
   "language": "python",
   "name": "python3"
  },
  "language_info": {
   "codemirror_mode": {
    "name": "ipython",
    "version": 3
   },
   "file_extension": ".py",
   "mimetype": "text/x-python",
   "name": "python",
   "nbconvert_exporter": "python",
   "pygments_lexer": "ipython3",
   "version": "3.10.19"
  }
 },
 "nbformat": 4,
 "nbformat_minor": 5
}
